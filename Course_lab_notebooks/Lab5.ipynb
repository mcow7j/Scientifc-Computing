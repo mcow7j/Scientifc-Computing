{
 "cells": [
  {
   "cell_type": "markdown",
   "metadata": {},
   "source": [
    "## Scientific Computation Lab 5"
   ]
  },
  {
   "cell_type": "markdown",
   "metadata": {},
   "source": [
    "### Task 1: Connected components"
   ]
  },
  {
   "cell_type": "markdown",
   "metadata": {},
   "source": [
    "A connected component of a graph is a set of nodes where there is at least one path between any pair of nodes in the set. A graph may contain several connected components, and the aim of this task is to assign a distinct numerical label to all nodes belonging to the same component. So, if a graph with 5 nodes has links: 0-1, 1-2, 3-4, then nodes 0,1,2 would be labeled belonging to component \"0\" and nodes 3,4 would be assigned to component \"1\". \n",
    "\n",
    "The basic algorithm is as follows:\n",
    "\n",
    "* Initialize numerical label to 0\n",
    "* Loop through all nodes in graph\n",
    "* if current node has not been explored\n",
    "  * Assign numerical label to current node and label it as explored\n",
    "  * Find all nodes reachable from current node, label them as explored and assign numerical label to them\n",
    "  * Increment numerical label\n",
    "\n"
   ]
  },
  {
   "cell_type": "markdown",
   "metadata": {},
   "source": [
    "1. Implement this algorithm in the cell below so that it takes a networkx graph as input and creates a list, Lconnect, where Lconnect[i] is the label for the connected component that node i belongs to. You may assume that nodes have \n",
    "been numbered from 0 to N-1. You have been provided with a function that implements depth-first search."
   ]
  },
  {
   "cell_type": "code",
   "execution_count": 1,
   "metadata": {},
   "outputs": [
    {
     "name": "stdout",
     "output_type": "stream",
     "text": [
      "Populating the interactive namespace from numpy and matplotlib\n"
     ]
    }
   ],
   "source": [
    "%pylab inline\n",
    "import networkx as nx\n",
    "\n",
    "def dfs(G,s):\n",
    "    \"\"\"\n",
    "    Input:\n",
    "    G: networkx graph\n",
    "    s: source node\n",
    "    Find reachable nodes using DFS\n",
    "    Output:\n",
    "    L2: Labels for all nodes in graph, 0=unreachable from source, 1=reachable\n",
    "    \"\"\"\n",
    "\n",
    "    L1 = list(G.nodes) #Assumes nodes are numbered from 0 to N-1\n",
    "    L2 = [0 for l in L1]\n",
    "\n",
    "    Q=[]\n",
    "    Q.append(s)\n",
    "    L2[s]=1\n",
    "\n",
    "    while len(Q)>0:\n",
    "        x = Q.pop()\n",
    "        for v in G.adj[x].keys():\n",
    "            if L2[v]==0:\n",
    "                Q.append(v)\n",
    "                L2[v]=1\n",
    "            #print(\"v=\",v)\n",
    "            #print(\"Q=\",Q)\n",
    "    return L2\n",
    "\n",
    "def connect(G):\n",
    "    \"\"\"Find connected components of G and label nodes appropriately\n",
    "    in list, Lconnect.\n",
    "    \"\"\"\n",
    "    Lconnect = [0 for n in G.nodes()]\n",
    "    label=0\n",
    "    #Add code here\n",
    "    \n",
    "   \n",
    "\n",
    "    return Lconnect"
   ]
  },
  {
   "cell_type": "markdown",
   "metadata": {},
   "source": [
    "2. Generate a random graph with multiple connected components and verify that your code is correct. What is the running time of your routine? "
   ]
  },
  {
   "cell_type": "code",
   "execution_count": 2,
   "metadata": {},
   "outputs": [],
   "source": [
    "#Add code here\n"
   ]
  },
  {
   "cell_type": "markdown",
   "metadata": {},
   "source": [
    "### Task 2: Numerical solution of an initial value problem"
   ]
  },
  {
   "cell_type": "markdown",
   "metadata": {},
   "source": [
    "You will now use *odeint* from scipy.integrate to solve the following IVP:\n",
    "\n",
    "$\\frac{dy_1}{dt} =  sin( \\omega t) $\n",
    "\n",
    "$\\frac{dy_2}{dt} = y_1 - y_2$\n",
    "\n",
    "$y_1(0)=1, ~ y_2(0)=0$\n",
    "\n",
    "and $\\omega$ is a parameter that must be specified"
   ]
  },
  {
   "cell_type": "markdown",
   "metadata": {},
   "source": [
    "1) Create a function named RHS which takes y,t, and $\\omega$ as input and returns dy/dt. Note that y and dy/dt should each contain two elements"
   ]
  },
  {
   "cell_type": "code",
   "execution_count": 1,
   "metadata": {},
   "outputs": [],
   "source": [
    "import numpy as np\n",
    "#Add code here\n",
    "#def RHS(y,t,w):\n",
    "    "
   ]
  },
  {
   "cell_type": "markdown",
   "metadata": {},
   "source": [
    "2) Now, i) set the variable, y0, to the initial condition, ii) assign a value to $\\omega$, and iii) create an array of times, t (starting at zero) at which the solution will be computed"
   ]
  },
  {
   "cell_type": "code",
   "execution_count": 4,
   "metadata": {
    "collapsed": true
   },
   "outputs": [],
   "source": [
    "#Add code here\n"
   ]
  },
  {
   "cell_type": "markdown",
   "metadata": {},
   "source": [
    "3) If the previous tasks have been completed correctly, the code below will solve the IVP and return the solution in the array, y"
   ]
  },
  {
   "cell_type": "code",
   "execution_count": 15,
   "metadata": {},
   "outputs": [
    {
     "name": "stdout",
     "output_type": "stream",
     "text": [
      "Populating the interactive namespace from numpy and matplotlib\n"
     ]
    }
   ],
   "source": [
    "%pylab inline\n",
    "from scipy.integrate import odeint\n",
    "y = odeint(RHS,y0,t,args=(w,))"
   ]
  },
  {
   "cell_type": "markdown",
   "metadata": {},
   "source": [
    "4) What are the dimensions of y? Plot your solution for $y_i(t)$. Compute the error, $\\epsilon(t) = |y_1-y_{1,exact}|$. Is it what you expect? Can you reduce it? For the last part, it may be helpful to look at the online documentation for *odeint*. "
   ]
  },
  {
   "cell_type": "code",
   "execution_count": 5,
   "metadata": {},
   "outputs": [],
   "source": [
    "#Add code here\n"
   ]
  }
 ],
 "metadata": {
  "kernelspec": {
   "display_name": "Python 3",
   "language": "python",
   "name": "python3"
  },
  "language_info": {
   "codemirror_mode": {
    "name": "ipython",
    "version": 3
   },
   "file_extension": ".py",
   "mimetype": "text/x-python",
   "name": "python",
   "nbconvert_exporter": "python",
   "pygments_lexer": "ipython3",
   "version": "3.7.4"
  }
 },
 "nbformat": 4,
 "nbformat_minor": 1
}
