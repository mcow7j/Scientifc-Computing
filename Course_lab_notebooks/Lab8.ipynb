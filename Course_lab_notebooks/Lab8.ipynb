{
 "cells": [
  {
   "cell_type": "code",
   "execution_count": 7,
   "metadata": {
    "collapsed": true
   },
   "outputs": [],
   "source": [
    "%matplotlib inline"
   ]
  },
  {
   "cell_type": "markdown",
   "metadata": {},
   "source": [
    "\n",
    "# Scientific Computation Lab 8\n"
   ]
  },
  {
   "cell_type": "markdown",
   "metadata": {},
   "source": [
    "In lecture, we saw that FFTs could be used to analyze the frequency content of time series. In this lab, you will learn how to use them to differentiate periodic functions."
   ]
  },
  {
   "cell_type": "markdown",
   "metadata": {},
   "source": [
    "We will work with a Gaussian function, $f(x) = exp(-\\alpha x^2)$\n",
    "with $-5 \\le x \\le 5$. We will choose $\\alpha$ so that the Gaussian is sufficiently narrow for f and several of its derivatives to be near zero at the boundaries (why?). The function below will generate this Gaussian with $x$ and $\\alpha$ provided as input."
   ]
  },
  {
   "cell_type": "code",
   "execution_count": 4,
   "metadata": {
    "collapsed": true
   },
   "outputs": [],
   "source": [
    "import numpy as np\n",
    "def gauss(x,alpha):\n",
    "    return np.exp(-alpha*x**2)"
   ]
  },
  {
   "cell_type": "markdown",
   "metadata": {},
   "source": [
    "### Part 1: Fourier coefficients"
   ]
  },
  {
   "cell_type": "markdown",
   "metadata": {},
   "source": [
    "1) Complete the cell below so that it generates a grid, $x$, with $N=100$ points in the interval [-5, 5).\n",
    "One approach is to first generate $N+1$ points from -5 to 5 (inclusive), and then remove the $N+1$th point."
   ]
  },
  {
   "cell_type": "code",
   "execution_count": 1,
   "metadata": {
    "collapsed": true
   },
   "outputs": [],
   "source": [
    "import numpy as np\n",
    "N=100\n",
    "alpha = 4\n",
    "#Add code here"
   ]
  },
  {
   "cell_type": "markdown",
   "metadata": {},
   "source": [
    "2) Now generate the Guassian and plot $f(x)$. Is $\\alpha$ sufficiently large?"
   ]
  },
  {
   "cell_type": "code",
   "execution_count": 2,
   "metadata": {},
   "outputs": [],
   "source": [
    "import matplotlib.pyplot as plt\n",
    "#add code here"
   ]
  },
  {
   "cell_type": "markdown",
   "metadata": {},
   "source": [
    "2) Now, compute the Gaussian's Fourier coefficients ($c_n$) and plot $|c_n|$ on a semilog plot. Compute a new Gaussian, $g$  with $\\alpha=1$. \n",
    "Compute its Fourier coefficients and add them to your plot. Why are the two curves different?"
   ]
  },
  {
   "cell_type": "code",
   "execution_count": 3,
   "metadata": {},
   "outputs": [],
   "source": [
    "#add code here\n",
    "\n"
   ]
  },
  {
   "cell_type": "markdown",
   "metadata": {},
   "source": [
    "### Part 2: Differentiation"
   ]
  },
  {
   "cell_type": "markdown",
   "metadata": {},
   "source": [
    "For time series, the *nth* Fourier coefficient corresponds to a frequency, $fr_n= n/T$ where T is the timespan of the signal. For a spatially varying function, the *nth* coefficient corresponds to a wavenumber, $k_n=2 \\pi n/L$ where for our example above, $L=10$. The wavenumber plays a key role in Fourier differentiation. If the Fourier coefficients of $f(x)$ are $c_n$, then the coefficients of $df/dx$ are $i k_n c_n$."
   ]
  },
  {
   "cell_type": "markdown",
   "metadata": {},
   "source": [
    "The basic steps then are, i) construct $k_n$, ii) compute $c_n$, iii) compute the inverse Fourier transform of $i k_n c_n$. "
   ]
  },
  {
   "cell_type": "markdown",
   "metadata": {},
   "source": [
    "1) Construct $k_n$ for $f(x)$ from our example above. Now, *n* and *k* will have to be in \"fft order\", $n=0,1,...,N/2-1,-N/2,-N/2+1,...,-1$"
   ]
  },
  {
   "cell_type": "code",
   "execution_count": 5,
   "metadata": {},
   "outputs": [],
   "source": [
    "#n = np.fft.fftshift(n)\n",
    "#add code here"
   ]
  },
  {
   "cell_type": "markdown",
   "metadata": {},
   "source": [
    "2) Now, compute $df$, N times the inverse FFT of $ikc$:"
   ]
  },
  {
   "cell_type": "code",
   "execution_count": 6,
   "metadata": {
    "collapsed": true
   },
   "outputs": [],
   "source": [
    "#add code here"
   ]
  },
  {
   "cell_type": "markdown",
   "metadata": {},
   "source": [
    "The code below will plot $df$ and the exact derivative of the Gaussian. If $df$ has been constructed correctly, the two should be extremely close."
   ]
  },
  {
   "cell_type": "code",
   "execution_count": 64,
   "metadata": {
    "collapsed": true
   },
   "outputs": [],
   "source": [
    "#plt.figure()\n",
    "#plt.plot(x,df,'x--')\n",
    "#plt.plot(x,-2*alpha*x*f)\n",
    "#plt.xlabel('x')\n",
    "#plt.ylabel('df/dx')\n",
    "#plt.legend(('computed','exact'))"
   ]
  },
  {
   "cell_type": "markdown",
   "metadata": {},
   "source": [
    "3) Repeat the steps above with *N=25* and *N=50*. Compute the error, $\\epsilon(x) = |df_{computed}-df_{exact}|$ for all three values of *N* and plot them on a figure."
   ]
  },
  {
   "cell_type": "code",
   "execution_count": 7,
   "metadata": {},
   "outputs": [],
   "source": [
    "#add code here"
   ]
  },
  {
   "cell_type": "markdown",
   "metadata": {},
   "source": [
    "4) A critically important idea is \"grid convergence\" which is connected to the rate at which the error decreases as $\\Delta x$ decreases (or as $N$ increases). For a well-posed method, for sufficiently small $\\Delta x$, the solution should be *grid independent* -- further reductions in the grid spacing will not meaningfully reduce the error any further. This typically occurs when the error is close to ~$1e-15$. At (approximately) what value of $N$ does the differentiation of the Gaussian (with $\\alpha=4$) become grid independent?"
   ]
  },
  {
   "cell_type": "code",
   "execution_count": null,
   "metadata": {
    "collapsed": true
   },
   "outputs": [],
   "source": []
  }
 ],
 "metadata": {
  "kernelspec": {
   "display_name": "Python 3",
   "language": "python",
   "name": "python3"
  },
  "language_info": {
   "codemirror_mode": {
    "name": "ipython",
    "version": 3
   },
   "file_extension": ".py",
   "mimetype": "text/x-python",
   "name": "python",
   "nbconvert_exporter": "python",
   "pygments_lexer": "ipython3",
   "version": "3.7.4"
  }
 },
 "nbformat": 4,
 "nbformat_minor": 1
}
