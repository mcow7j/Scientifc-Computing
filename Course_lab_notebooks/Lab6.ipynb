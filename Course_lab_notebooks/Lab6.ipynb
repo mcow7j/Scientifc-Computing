{
 "cells": [
  {
   "cell_type": "markdown",
   "metadata": {},
   "source": [
    "## Scientific Computation 2020 Lab 6"
   ]
  },
  {
   "cell_type": "markdown",
   "metadata": {},
   "source": [
    "### Task 1: Simulating random walks"
   ]
  },
  {
   "cell_type": "markdown",
   "metadata": {},
   "source": [
    "The simplest representation of 1-D random walks can be expressed as: $$X_{i+1} = X_i + R_i$$\n",
    "where $R_i$ is a random number which is either +1 or -1 with equal probability (i.e. it represents a coin flip). This can be implemented in Python in a straightforward manner in Python iterating forward in time and using np.random.choice to carry out the coin flip each step:"
   ]
  },
  {
   "cell_type": "code",
   "execution_count": null,
   "metadata": {},
   "outputs": [],
   "source": [
    "import numpy as np\n",
    "import matplotlib.pyplot as plt\n",
    "\n",
    "\n",
    "Nt = 100 #number of iterations\n",
    "x = np.zeros(Nt+1)\n",
    "\n",
    "#1 Nt-step random walk\n",
    "for i in range(Nt):\n",
    "    x[i+1] = x[i] + np.random.choice((-1,1))\n",
    "\n",
    "#Display walk\n",
    "plt.figure()\n",
    "plt.plot(x,'x--')\n",
    "plt.xlabel('i')\n",
    "plt.ylabel('$x_i$')\n",
    "plt.title(\"A single random walk\")\n",
    "plt.show()\n"
   ]
  },
  {
   "cell_type": "markdown",
   "metadata": {},
   "source": [
    "Ultimately, a single random walk has little meaning, and we need to compute averages over several walks: "
   ]
  },
  {
   "cell_type": "code",
   "execution_count": null,
   "metadata": {},
   "outputs": [],
   "source": [
    "from time import time\n",
    "import numpy as np\n",
    "def rwalk(Nt=400,M=500,display=False):\n",
    "    \"\"\"Compute M Nt-step 1-D random walks\n",
    "    \"\"\"\n",
    "    x = np.zeros((Nt+1,M))\n",
    "\n",
    "    t1 = time()\n",
    "    #M Nt-step random walks\n",
    "    for j in range(M):\n",
    "        for i in range(Nt):\n",
    "            x[i+1,j] = x[i,j] + np.random.choice((-1,1))\n",
    "\n",
    "    t2 = time()\n",
    "    dt = t2-t1    \n",
    "        \n",
    "    if display:\n",
    "        #Display walk\n",
    "        plt.figure()\n",
    "        plt.plot(x[:,::M//min(10,M)],'x--')\n",
    "        plt.xlabel('i')\n",
    "        plt.ylabel('$x_i$')\n",
    "        plt.title(\"About %d random walks\" %(min(10,M)))\n",
    "        plt.show()\n",
    "        \n",
    "    return x,dt\n",
    "out = rwalk(display=True)\n",
    "print(\"dt=%f\" %out[1])"
   ]
  },
  {
   "cell_type": "markdown",
   "metadata": {},
   "source": [
    "The function above is extremely inefficient for large M and Nt.\n",
    "When working with arrays, it is essential to avoid loops and use built-in functions/methods whenever possible. Modify *rwalk* below so that it: 1) Pre-computes all needed random numbers and stores them in an array before computing the random walks and 2) the loop over M walks is removed and all M walks are simultaneously updated with each step of i:"
   ]
  },
  {
   "cell_type": "code",
   "execution_count": null,
   "metadata": {},
   "outputs": [],
   "source": [
    "from time import time\n",
    "def rwalk2(Nt=400,M=500,display=False):\n",
    "    \"\"\"Compute M Nt-step 1-D random walks\n",
    "    \"\"\"\n",
    "    x = np.zeros((Nt+1,M))\n",
    "\n",
    "    t1 = time()\n",
    "    \n",
    "    #**Modify code below and add code here**\n",
    "    \n",
    "    #M Nt-step random walks\n",
    "    for j in range(M):\n",
    "        for i in range(Nt):\n",
    "            x[i+1,j] = x[i,j] + np.random.choice((-1,1))\n",
    "\n",
    "    t2 = time()\n",
    "    dt = t2-t1    \n",
    "        \n",
    "    if display:\n",
    "        #Display walk\n",
    "        plt.figure()\n",
    "        plt.plot(x[:,::M//min(10,M)],'x--')\n",
    "        plt.xlabel('i')\n",
    "        plt.ylabel('$x_i$')\n",
    "        plt.title(\"About %d random walks\" %(min(10,M)))\n",
    "        plt.show()\n",
    "        \n",
    "    return x,dt\n",
    "out = rwalk2(display=True)\n",
    "print(\"dt=%f\" %out[1])"
   ]
  },
  {
   "cell_type": "markdown",
   "metadata": {},
   "source": [
    "How much faster is your new function?\n",
    "\n",
    "Now, compute the mean and standard deviation of $x_i$ across the M-samples. You should be able to compute this without using any loops, and you should find that the standard deviation increases as $\\sqrt{i}$. What is the fraction of walkers at each position at the end of the random walks?"
   ]
  },
  {
   "cell_type": "code",
   "execution_count": null,
   "metadata": {},
   "outputs": [],
   "source": [
    "#Add code here\n",
    "\n",
    "    "
   ]
  },
  {
   "cell_type": "markdown",
   "metadata": {},
   "source": [
    "### Task 2: Practice with arrays, eigenvalues and eigenvectors"
   ]
  },
  {
   "cell_type": "markdown",
   "metadata": {
    "collapsed": true
   },
   "source": [
    "1) Use the *np.random.rand* function to generate a 3 x 3 matrix, N "
   ]
  },
  {
   "cell_type": "code",
   "execution_count": null,
   "metadata": {},
   "outputs": [],
   "source": [
    "import numpy as np\n",
    "#Add code here"
   ]
  },
  {
   "cell_type": "markdown",
   "metadata": {},
   "source": [
    "2) Compute the eigenvalues and eigenvectors of N:"
   ]
  },
  {
   "cell_type": "code",
   "execution_count": null,
   "metadata": {},
   "outputs": [],
   "source": [
    "#Add code here"
   ]
  },
  {
   "cell_type": "markdown",
   "metadata": {},
   "source": [
    "3) Verify that $\\textrm{det}(N-\\lambda_1 I)=0$ where $\\lambda_1$ is the first eigenvalue of N:"
   ]
  },
  {
   "cell_type": "code",
   "execution_count": null,
   "metadata": {
    "collapsed": true
   },
   "outputs": [],
   "source": [
    "#Add code here\n"
   ]
  },
  {
   "cell_type": "markdown",
   "metadata": {},
   "source": [
    "4) Verify that $N v_1 = \\lambda_1 v_1$ where $v_1$ is the first eigenvector of N:"
   ]
  },
  {
   "cell_type": "code",
   "execution_count": null,
   "metadata": {
    "collapsed": true
   },
   "outputs": [],
   "source": [
    "#Add code here"
   ]
  }
 ],
 "metadata": {
  "kernelspec": {
   "display_name": "Python 3",
   "language": "python",
   "name": "python3"
  },
  "language_info": {
   "codemirror_mode": {
    "name": "ipython",
    "version": 3
   },
   "file_extension": ".py",
   "mimetype": "text/x-python",
   "name": "python",
   "nbconvert_exporter": "python",
   "pygments_lexer": "ipython3",
   "version": "3.7.4"
  }
 },
 "nbformat": 4,
 "nbformat_minor": 1
}
